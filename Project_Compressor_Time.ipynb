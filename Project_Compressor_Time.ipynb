{
  "nbformat": 4,
  "nbformat_minor": 0,
  "metadata": {
    "colab": {
      "provenance": [],
      "authorship_tag": "ABX9TyPOQ28WghsGk7wmnHL8/hd1",
      "include_colab_link": true
    },
    "kernelspec": {
      "name": "python3",
      "display_name": "Python 3"
    },
    "language_info": {
      "name": "python"
    }
  },
  "cells": [
    {
      "cell_type": "markdown",
      "metadata": {
        "id": "view-in-github",
        "colab_type": "text"
      },
      "source": [
        "<a href=\"https://colab.research.google.com/github/abcr5914/Projects_Private/blob/main/Project_Compressor_Time.ipynb\" target=\"_parent\"><img src=\"https://colab.research.google.com/assets/colab-badge.svg\" alt=\"Open In Colab\"/></a>"
      ]
    },
    {
      "cell_type": "code",
      "execution_count": 7,
      "metadata": {
        "colab": {
          "base_uri": "https://localhost:8080/"
        },
        "id": "YyBCPJTf8zG3",
        "outputId": "4758951e-2811-4116-f089-a2f350ff5bab"
      },
      "outputs": [
        {
          "output_type": "stream",
          "name": "stdout",
          "text": [
            "Time to fill the bottle to 30.0 bar: 2.34 minutes\n"
          ]
        }
      ],
      "source": [
        "import math\n",
        "\n",
        "'''\n",
        "Notes:\n",
        "  The Number of iterations : 2336\n",
        "  Time Taken : 2.3 min\n",
        "  Need to visualize : the Pressure verses mass graph for each revolutions\n",
        "  Also another code to facilitate change in temp\n",
        "'''\n",
        "\n",
        "# Constants\n",
        "R = 287  # Specific gas constant for air (J/kg·K)\n",
        "n = 1.4  # Polytropic index (isentropic process)\n",
        "k = 25  # Heat transmission coefficient (W/m^2) (not used unless specified)\n",
        "T_ambient = 293  # Ambient temperature (K)\n",
        "P_ambient = 1e5  # Ambient pressure (Pa) ( = 1 Bar)\n",
        "\n",
        "# Compressor and bottle parameters\n",
        "D = 0.12  # Diameter of compressor cylinder (m)\n",
        "h = 0.10  # Height of compressor cylinder (m)\n",
        "CR = 23  # Compression ratio\n",
        "RPM = 1000  # Revolutions per minute\n",
        "V_bottle = 6  # Volume of the bottle (m^3)\n",
        "P_bottle_start = 2e5  # Starting pressure in the bottle (Pa)\n",
        "T_bottle_start = 293  # Starting temperature in the bottle (K)\n",
        "P_bottle_final = 30e5  # Final pressure in the bottle (Pa)\n",
        "\n",
        "# Derived values\n",
        "V_s = math.pi * (D / 2)**2 * h  # Swept volume of the compressor (m^3)\n",
        "N = RPM / 60  # Revolutions per second\n",
        "time_step = 1 / N  # Time per revolution (s)\n",
        "\n",
        "# Initialize variables\n",
        "P_bottle = P_bottle_start\n",
        "T_bottle = T_bottle_start\n",
        "m_bottle = (P_bottle * V_bottle) / (R * T_bottle)  # Initial mass of air in the bottle (kg)\n",
        "time_elapsed = 0  # Total time (s)\n",
        "\n",
        "# Simulation loop\n",
        "while P_bottle < P_bottle_final:\n",
        "\n",
        "    # Pressure in the cylinder at the end of the compression stroke\n",
        "    P_cylinder_max = P_ambient * (CR**n)\n",
        "\n",
        "    # Air mass delivered in this cycle\n",
        "    delta_m = (P_cylinder_max - P_bottle) * V_s / (R * T_bottle)\n",
        "    if delta_m < 0:\n",
        "        delta_m = 0  # No reverse flow\n",
        "\n",
        "    # Update bottle mass, pressure, and temperature\n",
        "    m_bottle += delta_m\n",
        "    P_bottle = (m_bottle * R * T_bottle) / V_bottle\n",
        "\n",
        "    # Heat transfer (optional: adjust T_bottle if significant heat transfer is expected)\n",
        "    # For now, assuming adiabatic process; modify if needed\n",
        "\n",
        "    # Update time\n",
        "    time_elapsed += time_step\n",
        "\n",
        "# Output the results\n",
        "print(f\"Time to fill the bottle to {P_bottle_final / 1e5:.1f} bar: {time_elapsed / 60:.2f} minutes\")"
      ]
    }
  ]
}